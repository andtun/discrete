{
 "cells": [
  {
   "cell_type": "code",
   "execution_count": 1,
   "metadata": {},
   "outputs": [],
   "source": [
    "import numpy as np"
   ]
  },
  {
   "cell_type": "markdown",
   "metadata": {},
   "source": [
    "Вводим матрицу стоимостей разрезов"
   ]
  },
  {
   "cell_type": "code",
   "execution_count": 2,
   "metadata": {},
   "outputs": [
    {
     "data": {
      "text/plain": [
       "array([[ 0,  0,  8, 10, 15, 10,  6,  9,  0],\n",
       "       [ 0,  0,  0, 16,  9,  8,  5,  8,  6],\n",
       "       [ 8,  0,  0,  0, 17,  4,  8, 14,  8],\n",
       "       [10, 16,  0,  0,  0,  8,  5,  7, 16],\n",
       "       [15,  9, 17,  0,  0,  0,  5,  8, 10],\n",
       "       [10,  8, 14,  8,  0,  0,  0, 12,  6],\n",
       "       [ 6,  5,  8,  5,  5,  0,  0,  0, 17],\n",
       "       [ 9,  8,  4,  7,  8, 12,  0,  0,  0],\n",
       "       [ 0,  6,  8, 16, 10,  6, 17,  0,  0]])"
      ]
     },
     "execution_count": 2,
     "metadata": {},
     "output_type": "execute_result"
    }
   ],
   "source": [
    "d = \"\"\"0 0 8 10 15 10 6 9 0\n",
    "0 0 0 16 9 8 5 8 6\n",
    "8 0 0 0 17 4 8 14 8\n",
    "10 16 0 0 0 8 5 7 16\n",
    "15 9 17 0 0 0 5 8 10\n",
    "10 8 14 8 0 0 0 12 6\n",
    "6 5 8 5 5 0 0 0 17\n",
    "9 8 4 7 8 12 0 0 0\n",
    "0 6 8 16 10 6 17 0 0\"\"\".split('\\n')\n",
    "d = np.array([list(map(int, i.split())) for i in d])\n",
    "d"
   ]
  },
  {
   "cell_type": "markdown",
   "metadata": {},
   "source": [
    "Создаём матрицу значений $\\tilde n$"
   ]
  },
  {
   "cell_type": "code",
   "execution_count": 3,
   "metadata": {},
   "outputs": [
    {
     "data": {
      "text/plain": [
       "array([[-1, -1, -1, -1, -1, -1, -1, -1, -1],\n",
       "       [-1, -1, -1, -1, -1, -1, -1, -1, -1],\n",
       "       [-1, -1, -1, -1, -1, -1, -1, -1, -1],\n",
       "       [-1, -1, -1, -1, -1, -1, -1, -1, -1],\n",
       "       [-1, -1, -1, -1, -1, -1, -1, -1, -1],\n",
       "       [-1, -1, -1, -1, -1, -1, -1, -1, -1],\n",
       "       [-1, -1, -1, -1, -1, -1, -1, -1, -1],\n",
       "       [-1, -1, -1, -1, -1, -1, -1, -1, -1],\n",
       "       [-1, -1, -1, -1, -1, -1, -1, -1, -1]])"
      ]
     },
     "execution_count": 3,
     "metadata": {},
     "output_type": "execute_result"
    }
   ],
   "source": [
    "n = -1 * np.ones(shape=d.shape, dtype=int)\n",
    "n"
   ]
  },
  {
   "cell_type": "markdown",
   "metadata": {},
   "source": [
    "Функция вычисления $\\tilde n(k, l)$ при помощи динамического программирования"
   ]
  },
  {
   "cell_type": "code",
   "execution_count": 4,
   "metadata": {},
   "outputs": [],
   "source": [
    "def calc_n(k, l):\n",
    "    print(k, l, end='')\n",
    "    \n",
    "    # уже вычисленные значения\n",
    "    if n[k, l] != -1:\n",
    "        print(\" - from memory\")\n",
    "        return n[k, l]\n",
    "    \n",
    "    # начальные случаи\n",
    "    if (l == k + 1) or (l == k + 2):\n",
    "        print(\" - border case\")\n",
    "        n[k, l] = 0\n",
    "        return 0\n",
    "\n",
    "    # вычисление значения рекуррентно\n",
    "    print(\" - calculating...\")\n",
    "    n[k, l] = min([calc_n(k, i) + calc_n(i, l) + d[k, i] + d[i, l] for i in range(k+1, l)])\n",
    "    print(k, l, \" - calculated!\")\n",
    "    return n[k, l]"
   ]
  },
  {
   "cell_type": "markdown",
   "metadata": {},
   "source": [
    "Вычисляем все $\\tilde n(k, l)$"
   ]
  },
  {
   "cell_type": "code",
   "execution_count": 5,
   "metadata": {},
   "outputs": [
    {
     "name": "stdout",
     "output_type": "stream",
     "text": [
      "l k - method\n",
      "---------------\n",
      "0 1 - border case\n",
      "0 2 - border case\n",
      "0 3 - calculating...\n",
      "0 1 - from memory\n",
      "1 3 - border case\n",
      "0 2 - from memory\n",
      "2 3 - border case\n",
      "0 3  - calculated!\n",
      "0 4 - calculating...\n",
      "0 1 - from memory\n",
      "1 4 - calculating...\n",
      "1 2 - border case\n",
      "2 4 - border case\n",
      "1 3 - from memory\n",
      "3 4 - border case\n",
      "1 4  - calculated!\n",
      "0 2 - from memory\n",
      "2 4 - from memory\n",
      "0 3 - from memory\n",
      "3 4 - from memory\n",
      "0 4  - calculated!\n",
      "0 5 - calculating...\n",
      "0 1 - from memory\n",
      "1 5 - calculating...\n",
      "1 2 - from memory\n",
      "2 5 - calculating...\n",
      "2 3 - from memory\n",
      "3 5 - border case\n",
      "2 4 - from memory\n",
      "4 5 - border case\n",
      "2 5  - calculated!\n",
      "1 3 - from memory\n",
      "3 5 - from memory\n",
      "1 4 - from memory\n",
      "4 5 - from memory\n",
      "1 5  - calculated!\n",
      "0 2 - from memory\n",
      "2 5 - from memory\n",
      "0 3 - from memory\n",
      "3 5 - from memory\n",
      "0 4 - from memory\n",
      "4 5 - from memory\n",
      "0 5  - calculated!\n",
      "0 6 - calculating...\n",
      "0 1 - from memory\n",
      "1 6 - calculating...\n",
      "1 2 - from memory\n",
      "2 6 - calculating...\n",
      "2 3 - from memory\n",
      "3 6 - calculating...\n",
      "3 4 - from memory\n",
      "4 6 - border case\n",
      "3 5 - from memory\n",
      "5 6 - border case\n",
      "3 6  - calculated!\n",
      "2 4 - from memory\n",
      "4 6 - from memory\n",
      "2 5 - from memory\n",
      "5 6 - from memory\n",
      "2 6  - calculated!\n",
      "1 3 - from memory\n",
      "3 6 - from memory\n",
      "1 4 - from memory\n",
      "4 6 - from memory\n",
      "1 5 - from memory\n",
      "5 6 - from memory\n",
      "1 6  - calculated!\n",
      "0 2 - from memory\n",
      "2 6 - from memory\n",
      "0 3 - from memory\n",
      "3 6 - from memory\n",
      "0 4 - from memory\n",
      "4 6 - from memory\n",
      "0 5 - from memory\n",
      "5 6 - from memory\n",
      "0 6  - calculated!\n",
      "0 7 - calculating...\n",
      "0 1 - from memory\n",
      "1 7 - calculating...\n",
      "1 2 - from memory\n",
      "2 7 - calculating...\n",
      "2 3 - from memory\n",
      "3 7 - calculating...\n",
      "3 4 - from memory\n",
      "4 7 - calculating...\n",
      "4 5 - from memory\n",
      "5 7 - border case\n",
      "4 6 - from memory\n",
      "6 7 - border case\n",
      "4 7  - calculated!\n",
      "3 5 - from memory\n",
      "5 7 - from memory\n",
      "3 6 - from memory\n",
      "6 7 - from memory\n",
      "3 7  - calculated!\n",
      "2 4 - from memory\n",
      "4 7 - from memory\n",
      "2 5 - from memory\n",
      "5 7 - from memory\n",
      "2 6 - from memory\n",
      "6 7 - from memory\n",
      "2 7  - calculated!\n",
      "1 3 - from memory\n",
      "3 7 - from memory\n",
      "1 4 - from memory\n",
      "4 7 - from memory\n",
      "1 5 - from memory\n",
      "5 7 - from memory\n",
      "1 6 - from memory\n",
      "6 7 - from memory\n",
      "1 7  - calculated!\n",
      "0 2 - from memory\n",
      "2 7 - from memory\n",
      "0 3 - from memory\n",
      "3 7 - from memory\n",
      "0 4 - from memory\n",
      "4 7 - from memory\n",
      "0 5 - from memory\n",
      "5 7 - from memory\n",
      "0 6 - from memory\n",
      "6 7 - from memory\n",
      "0 7  - calculated!\n",
      "0 8 - calculating...\n",
      "0 1 - from memory\n",
      "1 8 - calculating...\n",
      "1 2 - from memory\n",
      "2 8 - calculating...\n",
      "2 3 - from memory\n",
      "3 8 - calculating...\n",
      "3 4 - from memory\n",
      "4 8 - calculating...\n",
      "4 5 - from memory\n",
      "5 8 - calculating...\n",
      "5 6 - from memory\n",
      "6 8 - border case\n",
      "5 7 - from memory\n",
      "7 8 - border case\n",
      "5 8  - calculated!\n",
      "4 6 - from memory\n",
      "6 8 - from memory\n",
      "4 7 - from memory\n",
      "7 8 - from memory\n",
      "4 8  - calculated!\n",
      "3 5 - from memory\n",
      "5 8 - from memory\n",
      "3 6 - from memory\n",
      "6 8 - from memory\n",
      "3 7 - from memory\n",
      "7 8 - from memory\n",
      "3 8  - calculated!\n",
      "2 4 - from memory\n",
      "4 8 - from memory\n",
      "2 5 - from memory\n",
      "5 8 - from memory\n",
      "2 6 - from memory\n",
      "6 8 - from memory\n",
      "2 7 - from memory\n",
      "7 8 - from memory\n",
      "2 8  - calculated!\n",
      "1 3 - from memory\n",
      "3 8 - from memory\n",
      "1 4 - from memory\n",
      "4 8 - from memory\n",
      "1 5 - from memory\n",
      "5 8 - from memory\n",
      "1 6 - from memory\n",
      "6 8 - from memory\n",
      "1 7 - from memory\n",
      "7 8 - from memory\n",
      "1 8  - calculated!\n",
      "0 2 - from memory\n",
      "2 8 - from memory\n",
      "0 3 - from memory\n",
      "3 8 - from memory\n",
      "0 4 - from memory\n",
      "4 8 - from memory\n",
      "0 5 - from memory\n",
      "5 8 - from memory\n",
      "0 6 - from memory\n",
      "6 8 - from memory\n",
      "0 7 - from memory\n",
      "7 8 - from memory\n",
      "0 8  - calculated!\n",
      "1 2 - from memory\n",
      "1 3 - from memory\n",
      "1 4 - from memory\n",
      "1 5 - from memory\n",
      "1 6 - from memory\n",
      "1 7 - from memory\n",
      "1 8 - from memory\n",
      "2 3 - from memory\n",
      "2 4 - from memory\n",
      "2 5 - from memory\n",
      "2 6 - from memory\n",
      "2 7 - from memory\n",
      "2 8 - from memory\n",
      "3 4 - from memory\n",
      "3 5 - from memory\n",
      "3 6 - from memory\n",
      "3 7 - from memory\n",
      "3 8 - from memory\n",
      "4 5 - from memory\n",
      "4 6 - from memory\n",
      "4 7 - from memory\n",
      "4 8 - from memory\n",
      "5 6 - from memory\n",
      "5 7 - from memory\n",
      "5 8 - from memory\n",
      "6 7 - from memory\n",
      "6 8 - from memory\n",
      "7 8 - from memory\n"
     ]
    }
   ],
   "source": [
    "print(\"l k - method\")\n",
    "print(\"-\"*15)\n",
    "for k in range(len(d)):\n",
    "    for l in range(k+1, len(d)):\n",
    "        n[k, l] = calc_n(k, l)\n",
    "        n[l, k] = n[k, l]\n",
    "n[np.where(n == -1)] = 0"
   ]
  },
  {
   "cell_type": "markdown",
   "metadata": {},
   "source": [
    "### Ответ:\n",
    "Матрица значений $\\tilde n$"
   ]
  },
  {
   "cell_type": "code",
   "execution_count": 6,
   "metadata": {},
   "outputs": [
    {
     "data": {
      "text/plain": [
       "array([[ 0,  0,  0,  8, 18, 20, 23, 29, 37],\n",
       "       [ 0,  0,  0,  0, 16, 12, 18, 23, 31],\n",
       "       [ 0,  0,  0,  0,  0,  8, 10, 17, 30],\n",
       "       [ 8,  0,  0,  0,  0,  0,  5, 10, 17],\n",
       "       [18, 16,  0,  0,  0,  0,  0,  5, 13],\n",
       "       [20, 12,  8,  0,  0,  0,  0,  0, 12],\n",
       "       [23, 18, 10,  5,  0,  0,  0,  0,  0],\n",
       "       [29, 23, 17, 10,  5,  0,  0,  0,  0],\n",
       "       [37, 31, 30, 17, 13, 12,  0,  0,  0]])"
      ]
     },
     "execution_count": 6,
     "metadata": {},
     "output_type": "execute_result"
    }
   ],
   "source": [
    "n"
   ]
  },
  {
   "cell_type": "markdown",
   "metadata": {},
   "source": [
    "Минимальная стоимость раскроя:"
   ]
  },
  {
   "cell_type": "code",
   "execution_count": 7,
   "metadata": {},
   "outputs": [
    {
     "data": {
      "text/plain": [
       "37"
      ]
     },
     "execution_count": 7,
     "metadata": {},
     "output_type": "execute_result"
    }
   ],
   "source": [
    "n[0, 8]"
   ]
  }
 ],
 "metadata": {
  "kernelspec": {
   "display_name": "Python 3",
   "language": "python",
   "name": "python3"
  },
  "language_info": {
   "codemirror_mode": {
    "name": "ipython",
    "version": 3
   },
   "file_extension": ".py",
   "mimetype": "text/x-python",
   "name": "python",
   "nbconvert_exporter": "python",
   "pygments_lexer": "ipython3",
   "version": "3.7.1"
  }
 },
 "nbformat": 4,
 "nbformat_minor": 2
}
