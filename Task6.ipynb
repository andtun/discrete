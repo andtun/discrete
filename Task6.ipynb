{
 "cells": [
  {
   "cell_type": "code",
   "execution_count": 1,
   "metadata": {},
   "outputs": [],
   "source": [
    "import numpy as np\n",
    "import pandas as pd\n",
    "from itertools import combinations_with_replacement, permutations, product"
   ]
  },
  {
   "cell_type": "markdown",
   "metadata": {},
   "source": [
    "Вводим условие"
   ]
  },
  {
   "cell_type": "code",
   "execution_count": 2,
   "metadata": {},
   "outputs": [],
   "source": [
    "d = \"\"\"∞ 4 8 10 15 10 6 9 1\n",
    "6 ∞ 7 16 9 8 12 8 6\n",
    "8 5 ∞ 6 17 4 4 14 8\n",
    "10 16 3 ∞ 7 8 5 8 16\n",
    "15 9 17 5 ∞ 8 5 6 10\n",
    "10 8 14 8 3 ∞ 5 12 16\n",
    "6 5 8 5 5 3 ∞ 6 17\n",
    "9 8 4 7 8 12 4 ∞ 3\n",
    "5 6 8 16 10 6 17 5 ∞\"\"\".split('\\n')"
   ]
  },
  {
   "cell_type": "markdown",
   "metadata": {},
   "source": [
    "Загоняем условие в массив"
   ]
  },
  {
   "cell_type": "code",
   "execution_count": 3,
   "metadata": {},
   "outputs": [
    {
     "data": {
      "text/plain": [
       "array([[inf,  4.,  8., 10., 15., 10.,  6.,  9.,  1.],\n",
       "       [ 6., inf,  7., 16.,  9.,  8., 12.,  8.,  6.],\n",
       "       [ 8.,  5., inf,  6., 17.,  4.,  4., 14.,  8.],\n",
       "       [10., 16.,  3., inf,  7.,  8.,  5.,  8., 16.],\n",
       "       [15.,  9., 17.,  5., inf,  8.,  5.,  6., 10.],\n",
       "       [10.,  8., 14.,  8.,  3., inf,  5., 12., 16.],\n",
       "       [ 6.,  5.,  8.,  5.,  5.,  3., inf,  6., 17.],\n",
       "       [ 9.,  8.,  4.,  7.,  8., 12.,  4., inf,  3.],\n",
       "       [ 5.,  6.,  8., 16., 10.,  6., 17.,  5., inf]])"
      ]
     },
     "execution_count": 3,
     "metadata": {},
     "output_type": "execute_result"
    }
   ],
   "source": [
    "d = np.array([list(map(float, i.replace('∞', 'inf').split())) for i in d])\n",
    "d"
   ]
  },
  {
   "cell_type": "markdown",
   "metadata": {},
   "source": [
    "Задаём вспомогательные функции"
   ]
  },
  {
   "cell_type": "code",
   "execution_count": 4,
   "metadata": {},
   "outputs": [],
   "source": [
    "# вычесть минимальный элемент из каждых строки и столбца, вернуть сумму всех мин элементов\n",
    "def make_zeros(data):\n",
    "    d = np.copy(data)\n",
    "    cv = [(i, min(d[:,i])) for i in range(len(d)) if min(d[:,i]) != np.inf]\n",
    "    #print(\"v\", cv)\n",
    "    for i, v in cv:\n",
    "        if v != np.inf:\n",
    "            d[:,i] -= v\n",
    "            #print(v)\n",
    "    cg = [(i, min(d[i])) for i in range(len(d)) if min(d[i]) != np.inf]\n",
    "    #print(\"g\", cg)\n",
    "    for i, v in cg:\n",
    "        if v != np.inf:\n",
    "            d[i] -= v\n",
    "    #if len(d.shape) == 2:\n",
    "    #print(np.array(cv + cg)[:,1])\n",
    "    if len(cv + cg) != 0:\n",
    "        bound = sum(np.array(cv + cg)[:,1])\n",
    "    else:\n",
    "        bound = 0\n",
    "    return d, bound\n",
    "\n",
    "# путь формата [1, 2, 3, 4] -> список рёбер формата [[1,2], [2,3], [3,4]]\n",
    "def edges(way):\n",
    "    route = [[way[i], way[i+1]] for i in range(len(way)-1)]\n",
    "    if len(route) > 0:\n",
    "        route.append([route[-1][-1], route[0][0]])\n",
    "    return route"
   ]
  },
  {
   "cell_type": "markdown",
   "metadata": {},
   "source": [
    "Задаём основной класс"
   ]
  },
  {
   "cell_type": "code",
   "execution_count": 5,
   "metadata": {},
   "outputs": [],
   "source": [
    "# начальная матрица\n",
    "ORIG_D = np.copy(d)\n",
    "WAY_LENGTH = len(d)\n",
    "\n",
    "class Instance:\n",
    "    \n",
    "    def __init__(self, d, bound=0, way=[0], forbidden=[], cost=None):\n",
    "        self.visited = False\n",
    "        self.way = way.copy()\n",
    "        self.d = d.copy()\n",
    "        #print(self.d)\n",
    "        self.forbidden = forbidden.copy() # список запрещённых пунктов на след шаге\n",
    "        for i in product(self.way, self.way):\n",
    "            #print(i[0], i[1])\n",
    "            self.d[i[0], i[1]] += float('inf') # запрещаем повторно в посещённые города\n",
    "        for f in forbidden:\n",
    "            self.d[self.way[-1], f] += float('inf') # запрещаем запрещённые города\n",
    "        self.d, self.bound = make_zeros(self.d) # вычитаем и обновляем границу\n",
    "        #print(self.bound, bound)\n",
    "        #print(bound, self.bound)\n",
    "        self.bound += bound\n",
    "        self.cost = self.calc_cost() # считаем текущую стоимость пути\n",
    "        #print(self.way)\n",
    "\n",
    "    def solve(self):\n",
    "        this_point = self.way[-1] # наше местонахождение\n",
    "        #print(self)\n",
    "        #print(np.where(self.d[this_point] == 0))\n",
    "        next_point = np.where(self.d[this_point] == 0)[-1] # след пункт - ближайший ноль в матрице\n",
    "        \n",
    "        # если нули кончились (т.е. остались только inf)\n",
    "        if len(next_point) == 0:\n",
    "            i1, i2 = Instance(self.d, self.bound, way=self.way, cost=self.cost), Instance(self.d, bound=float('inf'))\n",
    "            i1.visited = True\n",
    "            i2.visited = True\n",
    "            return i1, i2\n",
    "        \n",
    "        # обновляем путь\n",
    "        next_point = next_point[0]\n",
    "        next_way = self.way.copy()\n",
    "        next_way.append(next_point)\n",
    "        \n",
    "        # обновляем запреты\n",
    "        next_data = np.copy(self.d)\n",
    "        next_data[this_point] += float('inf')\n",
    "        next_data[:,next_point] += float('inf')\n",
    "            \n",
    "        forbidden_data = np.copy(self.d)\n",
    "        forbidden_data[this_point, next_point] += float('inf')\n",
    "        next_forbidden = self.forbidden + [next_point]\n",
    "        \n",
    "        cost = None\n",
    "        #if len(next_way) == WAY_LENGTH:\n",
    "        #    cost = self.bound + sum([next_data[i[0], i[1]] for i in edges(next_way)])\n",
    "        \n",
    "        # создаём два следующих примера\n",
    "        next_Instance = Instance(next_data, self.bound, next_way, forbidden=[], cost=cost)\n",
    "        forbidden_Instance = Instance(forbidden_data, self.bound, self.way, next_forbidden)\n",
    "\n",
    "        return next_Instance, forbidden_Instance\n",
    "    \n",
    "    def __repr__(self):\n",
    "        return str(self.__dict__)\n",
    "    \n",
    "    # функция подсчёта стоимости\n",
    "    def calc_cost(self):\n",
    "        route = edges(self.way)\n",
    "        return sum([ORIG_D[i[0], i[1]] for i in route])\n"
   ]
  },
  {
   "cell_type": "markdown",
   "metadata": {},
   "source": [
    "**Решение**"
   ]
  },
  {
   "cell_type": "code",
   "execution_count": 9,
   "metadata": {},
   "outputs": [
    {
     "name": "stdout",
     "output_type": "stream",
     "text": [
      "Optimal way: [[0, 8], [8, 7], [7, 6], [6, 5], [5, 4], [4, 3], [3, 2], [2, 1], [1, 0]]\n"
     ]
    },
    {
     "data": {
      "text/html": [
       "<div>\n",
       "<style scoped>\n",
       "    .dataframe tbody tr th:only-of-type {\n",
       "        vertical-align: middle;\n",
       "    }\n",
       "\n",
       "    .dataframe tbody tr th {\n",
       "        vertical-align: top;\n",
       "    }\n",
       "\n",
       "    .dataframe thead th {\n",
       "        text-align: right;\n",
       "    }\n",
       "</style>\n",
       "<table border=\"1\" class=\"dataframe\">\n",
       "  <thead>\n",
       "    <tr style=\"text-align: right;\">\n",
       "      <th></th>\n",
       "      <th>Way</th>\n",
       "      <th>Forbidden</th>\n",
       "      <th>Bound</th>\n",
       "      <th>Cost</th>\n",
       "    </tr>\n",
       "  </thead>\n",
       "  <tbody>\n",
       "    <tr>\n",
       "      <th>0</th>\n",
       "      <td>[0]</td>\n",
       "      <td>[]</td>\n",
       "      <td>34.0</td>\n",
       "      <td>0</td>\n",
       "    </tr>\n",
       "    <tr>\n",
       "      <th>1</th>\n",
       "      <td>[0]</td>\n",
       "      <td>[1]</td>\n",
       "      <td>35.0</td>\n",
       "      <td>0</td>\n",
       "    </tr>\n",
       "    <tr>\n",
       "      <th>2</th>\n",
       "      <td>[0, 8]</td>\n",
       "      <td>[]</td>\n",
       "      <td>35.0</td>\n",
       "      <td>6</td>\n",
       "    </tr>\n",
       "    <tr>\n",
       "      <th>3</th>\n",
       "      <td>[0, 8, 7]</td>\n",
       "      <td>[]</td>\n",
       "      <td>35.0</td>\n",
       "      <td>15</td>\n",
       "    </tr>\n",
       "    <tr>\n",
       "      <th>4</th>\n",
       "      <td>[0, 8, 7, 6]</td>\n",
       "      <td>[]</td>\n",
       "      <td>35.0</td>\n",
       "      <td>16</td>\n",
       "    </tr>\n",
       "    <tr>\n",
       "      <th>5</th>\n",
       "      <td>[0, 8, 7, 6]</td>\n",
       "      <td>[1]</td>\n",
       "      <td>35.0</td>\n",
       "      <td>16</td>\n",
       "    </tr>\n",
       "    <tr>\n",
       "      <th>6</th>\n",
       "      <td>[0, 8, 7, 6]</td>\n",
       "      <td>[1, 3]</td>\n",
       "      <td>35.0</td>\n",
       "      <td>16</td>\n",
       "    </tr>\n",
       "    <tr>\n",
       "      <th>7</th>\n",
       "      <td>[0, 8, 7, 6, 5]</td>\n",
       "      <td>[]</td>\n",
       "      <td>35.0</td>\n",
       "      <td>23</td>\n",
       "    </tr>\n",
       "    <tr>\n",
       "      <th>8</th>\n",
       "      <td>[0, 8, 7, 6, 5, 4]</td>\n",
       "      <td>[]</td>\n",
       "      <td>35.0</td>\n",
       "      <td>31</td>\n",
       "    </tr>\n",
       "    <tr>\n",
       "      <th>9</th>\n",
       "      <td>[0, 8, 7, 6, 5, 4, 3]</td>\n",
       "      <td>[]</td>\n",
       "      <td>35.0</td>\n",
       "      <td>31</td>\n",
       "    </tr>\n",
       "    <tr>\n",
       "      <th>10</th>\n",
       "      <td>[0, 8, 7, 6, 5, 4, 3, 2]</td>\n",
       "      <td>[]</td>\n",
       "      <td>35.0</td>\n",
       "      <td>32</td>\n",
       "    </tr>\n",
       "    <tr>\n",
       "      <th>11</th>\n",
       "      <td>[0, 8, 7, 6, 5, 4, 3, 2, 1]</td>\n",
       "      <td>[]</td>\n",
       "      <td>35.0</td>\n",
       "      <td>35</td>\n",
       "    </tr>\n",
       "  </tbody>\n",
       "</table>\n",
       "</div>"
      ],
      "text/plain": [
       "                            Way Forbidden  Bound Cost\n",
       "0                           [0]        []   34.0    0\n",
       "1                           [0]       [1]   35.0    0\n",
       "2                        [0, 8]        []   35.0    6\n",
       "3                     [0, 8, 7]        []   35.0   15\n",
       "4                  [0, 8, 7, 6]        []   35.0   16\n",
       "5                  [0, 8, 7, 6]       [1]   35.0   16\n",
       "6                  [0, 8, 7, 6]    [1, 3]   35.0   16\n",
       "7               [0, 8, 7, 6, 5]        []   35.0   23\n",
       "8            [0, 8, 7, 6, 5, 4]        []   35.0   31\n",
       "9         [0, 8, 7, 6, 5, 4, 3]        []   35.0   31\n",
       "10     [0, 8, 7, 6, 5, 4, 3, 2]        []   35.0   32\n",
       "11  [0, 8, 7, 6, 5, 4, 3, 2, 1]        []   35.0   35"
      ]
     },
     "execution_count": 9,
     "metadata": {},
     "output_type": "execute_result"
    }
   ],
   "source": [
    "dfloc = 0\n",
    "best_cost = float('inf')\n",
    "instances = [Instance(d)] # изначально - пример с заданной матрицей\n",
    "df = pd.DataFrame(columns=[\"Way\", \"Forbidden\", \"Bound\", \"Cost\"])\n",
    "\n",
    "# пока не рассмотрены все примеры\n",
    "while len(instances) > 0:\n",
    "    \n",
    "    # самый заполненный путь из путей с минимальной границей\n",
    "    index, cur_Instance = min(enumerate(instances), key=lambda x: x[1].bound - len(x[1].way)/11)\n",
    "    #print(instances)\n",
    "    #print(cur_Instance)\n",
    "    #print(cur_Instance.way, cur_Instance.cost, cur_Instance.bound, \" \"*15, end='\\n')\n",
    "    df.loc[dfloc] = [cur_Instance.way, cur_Instance.forbidden, cur_Instance.bound, cur_Instance.cost]\n",
    "    dfloc += 1\n",
    "    #print(cur_Instance.way, cur_Instance.bound)\n",
    "    \n",
    "    # новые два примера\n",
    "    next_Instance, forbidden_Instance = cur_Instance.solve()\n",
    "    \n",
    "    # если путь оказался заполнен\n",
    "    if len(next_Instance.way) == WAY_LENGTH:\n",
    "        if next_Instance.cost < best_cost:\n",
    "            best_cost = next_Instance.cost\n",
    "            best_way = next_Instance.way\n",
    "            #print(\"!!!\", best_cost)\n",
    "    cur_Instance.visited = True\n",
    "    #dd = next_Instance.d\n",
    "    instances += [next_Instance, forbidden_Instance]\n",
    "    #print(instances)\n",
    "    #min_bound = cur_Instance.bound\n",
    "    #min_bound = min(instances, key=lambda x: x.bound).bound\n",
    "    #best_way = min(instances, key=lambda x: x.cost).way\n",
    "    instances.pop(index)\n",
    "    #print(min_cost)\n",
    "    \n",
    "    # удалить посещённые или превышающие границу / стоимость примеры\n",
    "    instances = [i for i in instances if (i.bound < best_cost) and (i.cost < best_cost) and not i.visited]\n",
    "\n",
    "df.loc[dfloc] = [next_Instance.way, next_Instance.forbidden, next_Instance.bound, next_Instance.cost]\n",
    "print(\"Optimal way:\", edges(best_way))\n",
    "df.head(len(df))"
   ]
  },
  {
   "cell_type": "markdown",
   "metadata": {},
   "source": [
    "### Ответ\n",
    "\n",
    "****"
   ]
  },
  {
   "cell_type": "code",
   "execution_count": 10,
   "metadata": {},
   "outputs": [
    {
     "name": "stdout",
     "output_type": "stream",
     "text": [
      "Optimal way: [[0, 8], [8, 7], [7, 6], [6, 5], [5, 4], [4, 3], [3, 2], [2, 1], [1, 0]] \n",
      "Cost: 35.0\n"
     ]
    }
   ],
   "source": [
    "print(\"Optimal way:\", edges(best_way), \"\\nCost: %s\" % (best_cost))"
   ]
  }
 ],
 "metadata": {
  "kernelspec": {
   "display_name": "Python 3",
   "language": "python",
   "name": "python3"
  },
  "language_info": {
   "codemirror_mode": {
    "name": "ipython",
    "version": 3
   },
   "file_extension": ".py",
   "mimetype": "text/x-python",
   "name": "python",
   "nbconvert_exporter": "python",
   "pygments_lexer": "ipython3",
   "version": "3.7.1"
  }
 },
 "nbformat": 4,
 "nbformat_minor": 2
}
