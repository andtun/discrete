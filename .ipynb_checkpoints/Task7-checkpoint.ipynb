{
 "cells": [
  {
   "cell_type": "code",
   "execution_count": 99,
   "metadata": {},
   "outputs": [],
   "source": [
    "import numpy as np"
   ]
  },
  {
   "cell_type": "markdown",
   "metadata": {},
   "source": [
    "Задаём значения $p$ для множеств $N_{12}, N_{21}, \\dots$"
   ]
  },
  {
   "cell_type": "code",
   "execution_count": 100,
   "metadata": {},
   "outputs": [],
   "source": [
    "N12 = np.array([[4, 6, 5, 7, 8], [5, 4, 3, 5, 7]]).T\n",
    "N12a = 1\n",
    "N21 = np.array([[7, 4, 5, 2], [4, 6, 2, 3]]).T\n",
    "N21a = 6\n",
    "N1 = np.array([[7, 9], [None, None]]).T\n",
    "N1a = 10\n",
    "N2 = np.array([[None, None], [4, 6]]).T\n",
    "N2a = 13"
   ]
  },
  {
   "cell_type": "markdown",
   "metadata": {},
   "source": [
    "Функции решения задач"
   ]
  },
  {
   "cell_type": "code",
   "execution_count": 105,
   "metadata": {},
   "outputs": [],
   "source": [
    "# Подзадача составления расписания pi12 для работ с тех. процессом 1 -> 2\n",
    "def single_trace(N12, N12a):\n",
    "    toskip = []\n",
    "    pis = [[], []] # pi1, pi2\n",
    "    indexes = np.array(list(map(lambda x: (x//2, x%2), np.argsort(N12, axis=None)))) # сортируем p\n",
    "    for i1, i2 in indexes: # итерация по р в порядке возрастания\n",
    "        if i1 not in toskip: # если работа ещё не поставлена в расписание\n",
    "            pis[i2].append(i1)\n",
    "        toskip.append(i1)\n",
    "    pi1, pi2 = pis[0], pis[1][::-1] # в pi2 ставим требование в начало!\n",
    "    return np.array(pi1 + pi2) + N12a # суммарное расписание с учётом сдвига номеров (работы нумеруются не с 0)\n",
    "\n",
    "# Алгоритм решения основной задачи\n",
    "def solve(N12, N12a, N21, N21a, N1, N1a, N2, N2a):\n",
    "    # подзадачи 12 и 21\n",
    "    pi12 = single_trace(N12, N12a).tolist()\n",
    "    pi21 = single_trace(N21, N21a).tolist()\n",
    "    \n",
    "    # произвольный порядок 1 и 2\n",
    "    pi1 = (np.arange(len(N1)) + N1a).tolist()\n",
    "    pi2 = (np.arange(len(N2)) + N2a).tolist()\n",
    "    \n",
    "    # объединение расписаний\n",
    "    res_pi1 = pi12 + pi1 + pi21\n",
    "    res_pi2 = pi21 + pi2 + pi12\n",
    "    return res_pi1, res_pi2"
   ]
  },
  {
   "cell_type": "markdown",
   "metadata": {},
   "source": [
    "### Ответ:"
   ]
  },
  {
   "cell_type": "code",
   "execution_count": 103,
   "metadata": {},
   "outputs": [
    {
     "name": "stdout",
     "output_type": "stream",
     "text": [
      "Порядок выполнения работ на 1 машине:\n",
      "[1, 5, 4, 2, 3, 10, 11, 9, 7, 6, 8],\n",
      "На второй:\n",
      "[9, 7, 6, 8, 13, 14, 1, 5, 4, 2, 3]\n"
     ]
    }
   ],
   "source": [
    "pi1, pi2 = solve(N12, N12a, N21, N21a, N1, N1a, N2, N2a)\n",
    "print(\"Порядок выполнения работ на 1 машине:\\n%s,\\nНа второй:\\n%s\" % (pi1, pi2))"
   ]
  },
  {
   "cell_type": "code",
   "execution_count": null,
   "metadata": {},
   "outputs": [],
   "source": []
  }
 ],
 "metadata": {
  "kernelspec": {
   "display_name": "Python 3",
   "language": "python",
   "name": "python3"
  },
  "language_info": {
   "codemirror_mode": {
    "name": "ipython",
    "version": 3
   },
   "file_extension": ".py",
   "mimetype": "text/x-python",
   "name": "python",
   "nbconvert_exporter": "python",
   "pygments_lexer": "ipython3",
   "version": "3.7.1"
  }
 },
 "nbformat": 4,
 "nbformat_minor": 2
}
